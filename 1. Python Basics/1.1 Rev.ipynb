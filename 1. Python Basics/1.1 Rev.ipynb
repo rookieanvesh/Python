{
 "cells": [
  {
   "cell_type": "code",
   "execution_count": null,
   "metadata": {},
   "outputs": [],
   "source": [
    "a = 100\n"
   ]
  },
  {
   "cell_type": "code",
   "execution_count": 15,
   "metadata": {},
   "outputs": [
    {
     "name": "stdout",
     "output_type": "stream",
     "text": [
      "10 <class 'int'>\n",
      "hello <class 'str'>\n",
      "9.0 <class 'float'>\n"
     ]
    }
   ],
   "source": [
    "## declaring and assigning variables\n",
    "## variables are case sensitive\n",
    "## dynamic typing\n",
    "## python allows the type of a variable to change as the program executes\n",
    "var = 10 ##int\n",
    "print(var, type(var))\n",
    "\n",
    "var = 'hello'\n",
    "print(var, type(var))\n",
    "\n",
    "var = 9.0\n",
    "print(var, type(var))"
   ]
  },
  {
   "cell_type": "code",
   "execution_count": 25,
   "metadata": {},
   "outputs": [
    {
     "name": "stdout",
     "output_type": "stream",
     "text": [
      "23 <class 'str'> 23 <class 'int'>\n"
     ]
    }
   ],
   "source": [
    "## input in python, allows the user to give the value like scanner and bufferedreader and other classes in java\n",
    "age = input(\"what is your age?\")\n",
    "date = int(input(\"what is the date?\"))\n",
    "print(age, type(age), date, type(date))\n",
    "## the value if the input is always a string\n"
   ]
  },
  {
   "cell_type": "code",
   "execution_count": 11,
   "metadata": {},
   "outputs": [
    {
     "name": "stdout",
     "output_type": "stream",
     "text": [
      "<class 'int'>\n",
      "25 <class 'str'>\n",
      "<class 'str'>\n",
      "123\n"
     ]
    }
   ],
   "source": [
    "##type conversion\n",
    "age = 25\n",
    "age_str = str(age)\n",
    "print(type(age))\n",
    "print(age_str, type(age_str))\n",
    "agee = '25'\n",
    "print(type(agee))\n",
    "##we can only convert numbers as string to numbers unlike the string \"anv\", this wont be convert to any number\n",
    "name = \"123\"\n",
    "ans = int(name)\n",
    "print(ans)\n"
   ]
  },
  {
   "cell_type": "code",
   "execution_count": 34,
   "metadata": {},
   "outputs": [
    {
     "name": "stdout",
     "output_type": "stream",
     "text": [
      "sum 46.1\n",
      "diff -0.10000000000000142\n",
      "multi 531.3000000000001\n",
      "div 0.9956709956709956 <class 'float'>\n"
     ]
    }
   ],
   "source": [
    "## a simple calculator in python\n",
    "##sum1 = int(input('enter the first number'))\n",
    "##sum2 = int(input('enter the second number'))\n",
    "sum1 = int(input('enter the first number'))\n",
    "sum2 = float(input('enter the second number'))\n",
    "\n",
    "sum = sum1 + sum2\n",
    "diff = sum1 - sum2\n",
    "multi = sum1 * sum2\n",
    "div = sum1 / sum2\n",
    "print(\"sum\", sum)\n",
    "print(\"diff\", diff)\n",
    "print(\"multi\",mult)\n",
    "print(\"div\",div, type(div))"
   ]
  },
  {
   "cell_type": "code",
   "execution_count": 2,
   "metadata": {},
   "outputs": [
    {
     "name": "stdout",
     "output_type": "stream",
     "text": [
      "<class 'bool'>\n"
     ]
    }
   ],
   "source": [
    "## boolean datatype\n",
    "a = 10\n",
    "b = 10\n",
    "print(type(a==b))\n",
    "\n"
   ]
  },
  {
   "cell_type": "code",
   "execution_count": 3,
   "metadata": {},
   "outputs": [
    {
     "name": "stdout",
     "output_type": "stream",
     "text": [
      "hello5.11\n"
     ]
    }
   ],
   "source": [
    "var = \"hello\" + \"5.11\"\n",
    "print(var)"
   ]
  },
  {
   "cell_type": "code",
   "execution_count": 3,
   "metadata": {},
   "outputs": [
    {
     "ename": "ValueError",
     "evalue": "invalid literal for int() with base 10: 'hi'",
     "output_type": "error",
     "traceback": [
      "\u001b[0;31m---------------------------------------------------------------------------\u001b[0m",
      "\u001b[0;31mValueError\u001b[0m                                Traceback (most recent call last)",
      "Cell \u001b[0;32mIn[3], line 2\u001b[0m\n\u001b[1;32m      1\u001b[0m enter \u001b[38;5;241m=\u001b[39m \u001b[38;5;28minput\u001b[39m(\u001b[38;5;124m\"\u001b[39m\u001b[38;5;124menter something\u001b[39m\u001b[38;5;124m\"\u001b[39m)\n\u001b[0;32m----> 2\u001b[0m \u001b[38;5;28;01mif\u001b[39;00m \u001b[38;5;28;43mint\u001b[39;49m\u001b[43m(\u001b[49m\u001b[43menter\u001b[49m\u001b[43m)\u001b[49m \u001b[38;5;241m>\u001b[39m \u001b[38;5;241m0\u001b[39m:\n\u001b[1;32m      3\u001b[0m     \u001b[38;5;28mprint\u001b[39m(\u001b[38;5;124m\"\u001b[39m\u001b[38;5;124mhello\u001b[39m\u001b[38;5;124m\"\u001b[39m)\n",
      "\u001b[0;31mValueError\u001b[0m: invalid literal for int() with base 10: 'hi'"
     ]
    }
   ],
   "source": [
    "enter = input(\"enter something\")\n",
    "if int(enter) > 0:\n",
    "    print(\"hello\")"
   ]
  },
  {
   "cell_type": "code",
   "execution_count": 10,
   "metadata": {},
   "outputs": [
    {
     "name": "stdout",
     "output_type": "stream",
     "text": [
      "2\n",
      "3\n",
      "6\n",
      "5\n"
     ]
    }
   ],
   "source": [
    "## range() gives the sequence of numbers \n",
    "range(7)\n",
    "## we use range in the for loop to iterate through a sequence of number, but the last number is never included\n",
    "for i in range(2,4):\n",
    "    print(i)\n",
    "## range(x,y,z) is basically like for(int i = x; i<y; z++)\n",
    "for i in range(6,4,-1):\n",
    "    print(i)"
   ]
  },
  {
   "cell_type": "code",
   "execution_count": 13,
   "metadata": {},
   "outputs": [],
   "source": [
    "for i in range(10):\n",
    "    break"
   ]
  },
  {
   "cell_type": "code",
   "execution_count": 17,
   "metadata": {},
   "outputs": [
    {
     "name": "stdout",
     "output_type": "stream",
     "text": [
      "3\n",
      "5\n",
      "7\n",
      "9\n",
      "11\n"
     ]
    }
   ],
   "source": [
    "for i in range(2,12):\n",
    "    if i%2==0:\n",
    "        continue\n",
    "    print(i)"
   ]
  },
  {
   "cell_type": "code",
   "execution_count": 20,
   "metadata": {},
   "outputs": [
    {
     "name": "stdout",
     "output_type": "stream",
     "text": [
      "i 0, j 0\n",
      "i 0, j 1\n",
      "i 0, j 2\n",
      "i 0, j 3\n",
      "i 0, j 4\n",
      "i 0, j 5\n",
      "i 0, j 6\n",
      "i 1, j 0\n",
      "i 1, j 1\n",
      "i 1, j 2\n",
      "i 1, j 3\n",
      "i 1, j 4\n",
      "i 1, j 5\n",
      "i 1, j 6\n",
      "i 2, j 0\n",
      "i 2, j 1\n",
      "i 2, j 2\n",
      "i 2, j 3\n",
      "i 2, j 4\n",
      "i 2, j 5\n",
      "i 2, j 6\n",
      "i 3, j 0\n",
      "i 3, j 1\n",
      "i 3, j 2\n",
      "i 3, j 3\n",
      "i 3, j 4\n",
      "i 3, j 5\n",
      "i 3, j 6\n",
      "i 4, j 0\n",
      "i 4, j 1\n",
      "i 4, j 2\n",
      "i 4, j 3\n",
      "i 4, j 4\n",
      "i 4, j 5\n",
      "i 4, j 6\n"
     ]
    }
   ],
   "source": [
    "## nested \n",
    "for i in range(5):\n",
    "    for j in range(7):\n",
    "        print(f\"i {i}, j {j}\")\n",
    "        "
   ]
  },
  {
   "cell_type": "code",
   "execution_count": 32,
   "metadata": {},
   "outputs": [
    {
     "ename": "ValueError",
     "evalue": "invalid literal for int() with base 10: ''",
     "output_type": "error",
     "traceback": [
      "\u001b[0;31m---------------------------------------------------------------------------\u001b[0m",
      "\u001b[0;31mValueError\u001b[0m                                Traceback (most recent call last)",
      "Cell \u001b[0;32mIn[32], line 2\u001b[0m\n\u001b[1;32m      1\u001b[0m \u001b[38;5;66;03m## calculate the sum of first n natural numbers\u001b[39;00m\n\u001b[0;32m----> 2\u001b[0m n \u001b[38;5;241m=\u001b[39m \u001b[38;5;28;43mint\u001b[39;49m\u001b[43m(\u001b[49m\u001b[38;5;28;43minput\u001b[39;49m\u001b[43m(\u001b[49m\u001b[38;5;124;43m\"\u001b[39;49m\u001b[38;5;124;43menter the value of n\u001b[39;49m\u001b[38;5;124;43m\"\u001b[39;49m\u001b[43m)\u001b[49m\u001b[43m)\u001b[49m\n\u001b[1;32m      3\u001b[0m \u001b[38;5;28msum\u001b[39m \u001b[38;5;241m=\u001b[39m \u001b[38;5;241m0\u001b[39m\n\u001b[1;32m      4\u001b[0m \u001b[38;5;28;01mfor\u001b[39;00m i  \u001b[38;5;129;01min\u001b[39;00m \u001b[38;5;28mrange\u001b[39m(\u001b[38;5;241m1\u001b[39m,n): \u001b[38;5;66;03m## as natural numbers start from n\u001b[39;00m\n",
      "\u001b[0;31mValueError\u001b[0m: invalid literal for int() with base 10: ''"
     ]
    }
   ],
   "source": [
    "## calculate the sum of first n natural numbers\n",
    "n = int(input(\"enter the value of n\"))\n",
    "sum = 0\n",
    "for i  in range(1,n): ## as natural numbers start from n\n",
    "    sum += i\n",
    "print(sum)\n"
   ]
  },
  {
   "cell_type": "code",
   "execution_count": 43,
   "metadata": {},
   "outputs": [
    {
     "name": "stdout",
     "output_type": "stream",
     "text": [
      "5\n",
      "7\n",
      "11\n"
     ]
    }
   ],
   "source": [
    "## display prime numbers from m to n\n",
    "for i in range(4,12):\n",
    "    is_prime = True\n",
    "    if i < 2:\n",
    "        continue\n",
    "    for j in range(2,i):\n",
    "        if i%j == 0:\n",
    "            is_prime = False\n",
    "            break\n",
    "    if(is_prime):\n",
    "        print(i)    "
   ]
  },
  {
   "cell_type": "code",
   "execution_count": 35,
   "metadata": {},
   "outputs": [
    {
     "name": "stdout",
     "output_type": "stream",
     "text": [
      "[]\n",
      "grapes\n",
      "kiwi\n",
      "orange\n",
      "banana\n",
      "apple\n",
      "kiwi\n",
      " \n",
      "apple\n",
      "banana\n",
      "orange\n",
      "kiwi\n",
      "grapes\n",
      "[]\n"
     ]
    }
   ],
   "source": [
    "## lists []\n",
    "'''lst = [2,\"abcd\",1,2,3,\" \"]\n",
    "lst.clear()'''\n",
    "lst = []\n",
    "print(lst[0:1])\n",
    "### accessing list items, '-' means iterating from the last\n",
    "fruits = [\"apple\",\"banana\",\"orange\",\"kiwi\",\"grapes\"]\n",
    "## printing the list from the end\n",
    "for i in range(len(fruits)-1,-1,-1):\n",
    "    print(fruits[i])\n",
    "print(fruits[-2])\n",
    "print(\" \")\n",
    "## simple way to iterate over the list\n",
    "for i in fruits:\n",
    "    print(i)\n",
    "\n",
    "fruits[0:5] ## similar to 0:\n",
    "print(lst)\n"
   ]
  },
  {
   "cell_type": "code",
   "execution_count": null,
   "metadata": {},
   "outputs": [],
   "source": []
  },
  {
   "cell_type": "code",
   "execution_count": 32,
   "metadata": {},
   "outputs": [
    {
     "name": "stdout",
     "output_type": "stream",
     "text": [
      "[]\n",
      "['apple', 'banana', 'orange', 'kiwi', 'grapes', 'dragon fruit', 'dragon fruit', 'dragon fruit', 'dragon fruit', 'dragon fruit']\n",
      "['apple', 'orange', 'grapes', 'dragon fruit', 'dragon fruit']\n",
      "['banana', 'grapes', 'dragon fruit']\n"
     ]
    }
   ],
   "source": [
    "## list methods\n",
    "print(lst[1:5])\n",
    "fruits.append(\"dragon fruit\") ## appends the item towards the end of the list\n",
    "print(fruits)\n",
    "print(fruits[::2])\n",
    "print(fruits[1:8:3])\n"
   ]
  },
  {
   "cell_type": "code",
   "execution_count": 36,
   "metadata": {},
   "outputs": [
    {
     "name": "stdout",
     "output_type": "stream",
     "text": [
      "0 apple\n",
      "1 banana\n",
      "2 orange\n",
      "3 kiwi\n",
      "4 grapes\n"
     ]
    }
   ],
   "source": [
    "## iterating over the list\n",
    "## enumerate gives the index number as well\n",
    "for index, number in enumerate(fruits):\n",
    "    print(index, number)"
   ]
  },
  {
   "cell_type": "code",
   "execution_count": 1,
   "metadata": {},
   "outputs": [
    {
     "name": "stdout",
     "output_type": "stream",
     "text": [
      "[0, 1, 8, 27, 64, 125, 216, 343, 512]\n",
      "[0, 4, 16, 36, 64, 100, 144, 196, 256, 324]\n"
     ]
    }
   ],
   "source": [
    "## list comprehension\n",
    "[i**2 for i in range(10) if i>5]\n",
    "\n",
    "## to the power of three of every number\n",
    "square = [i**3 for i in range(9)]\n",
    "print(square)\n",
    "even_nums = [i**2 for i in range(20) if i%2==0]\n",
    "print(even_nums)"
   ]
  },
  {
   "cell_type": "code",
   "execution_count": 11,
   "metadata": {},
   "outputs": [
    {
     "name": "stdout",
     "output_type": "stream",
     "text": [
      "{2, 3, 4, 5} 1\n",
      "{2, 3, 4, 5} 1\n"
     ]
    }
   ],
   "source": [
    "## declaring a set using the set() function\n",
    "my_set = set([1,2,3,4,5,5])\n",
    "## declaring the set using {}\n",
    "my_other_set = {1,2,3,4,5,5}\n",
    "first = my_set.pop()\n",
    "sec = my_other_set.pop()\n",
    "print(my_set, first)\n",
    "print(my_other_set, sec)"
   ]
  },
  {
   "cell_type": "code",
   "execution_count": 13,
   "metadata": {},
   "outputs": [
    {
     "name": "stdout",
     "output_type": "stream",
     "text": [
      "{8, 9, 7}\n"
     ]
    }
   ],
   "source": [
    "## some mathematical set operations are .union() .intersection() .intersection_update() .difference()\n",
    "set1 = {1,2,3,4,5,6}\n",
    "set2 = {4,5,6,7,8,9}\n",
    "print(set2.difference(set1))"
   ]
  },
  {
   "cell_type": "code",
   "execution_count": 16,
   "metadata": {},
   "outputs": [
    {
     "name": "stdout",
     "output_type": "stream",
     "text": [
      "False\n"
     ]
    }
   ],
   "source": [
    "## set methods\n",
    "setone = {1,2,3}\n",
    "settwo = {4,5,6}\n",
    "print(set1.issubset(set2))"
   ]
  },
  {
   "cell_type": "code",
   "execution_count": 22,
   "metadata": {},
   "outputs": [
    {
     "name": "stdout",
     "output_type": "stream",
     "text": [
      "['hello', ',', 'my', 'name', 'is', 'is', 'anvesh']\n",
      "{'is', 'anvesh', 'hello', 'my', ',', 'name'}\n"
     ]
    }
   ],
   "source": [
    "words = \"hello , my name is is anvesh\"\n",
    "words_split = words.split()\n",
    "print(words_split)\n",
    "unique_words = set(words_split)\n",
    "print(unique_words)"
   ]
  },
  {
   "cell_type": "code",
   "execution_count": 29,
   "metadata": {},
   "outputs": [
    {
     "name": "stdout",
     "output_type": "stream",
     "text": [
      "20\n",
      "20\n",
      "none\n"
     ]
    }
   ],
   "source": [
    "## dictionary\n",
    "students = {\"name\":\"abc\", \"age\":20, \"grade\": \"A\"}\n",
    "print(students[\"age\"])\n",
    "print(students.get(\"age\"))\n",
    "print(students.get(\"salary\",\"none\")) ## if the first value is not present then the second value is given as output, the second value is the default value"
   ]
  },
  {
   "cell_type": "code",
   "execution_count": 36,
   "metadata": {},
   "outputs": [
    {
     "name": "stdout",
     "output_type": "stream",
     "text": [
      "{'name': 'abc', 'age': 20, 'grade': 'A', 'address': 'India'}\n",
      "{'name': 'abc', 'age': 20, 'grade': 'A'}\n"
     ]
    }
   ],
   "source": [
    "students[\"address\"] = \"India\" ## the key and value are added to the end of the dict\n",
    "print(students)\n",
    "del students[\"address\"] ## deleting the specified key and value pair\n",
    "print(students)"
   ]
  },
  {
   "cell_type": "code",
   "execution_count": 41,
   "metadata": {},
   "outputs": [
    {
     "name": "stdout",
     "output_type": "stream",
     "text": [
      "<class 'dict_values'>\n",
      "20\n"
     ]
    }
   ],
   "source": [
    "values = students.values()\n",
    "print(type(values))\n",
    "for i in values:\n",
    "    if i == 20:\n",
    "        break\n",
    "print(i)"
   ]
  },
  {
   "cell_type": "code",
   "execution_count": 50,
   "metadata": {},
   "outputs": [
    {
     "name": "stdout",
     "output_type": "stream",
     "text": [
      "20\n",
      "bhopal:{'street': {'house': 20}}\n",
      "street:{'house': 20}\n",
      "house:20\n"
     ]
    }
   ],
   "source": [
    "## nested dict\n",
    "address = {\n",
    "    \"bhopal\":{\"street\" : {\"house\" : 20}}\n",
    "}\n",
    "print(address[\"bhopal\"][\"street\"][\"house\"]) ## all the keys are used to access the nested values\n",
    "for key,val in address.items():\n",
    "    print(f\"{key}:{val}\") ## the values have more key value pairs and so iterate over them\n",
    "    for a,b in val.items():\n",
    "        print(f\"{a}:{b}\")\n",
    "        for i,j in b.items():\n",
    "            print(f\"{i}:{j}\")"
   ]
  },
  {
   "cell_type": "code",
   "execution_count": 52,
   "metadata": {},
   "outputs": [
    {
     "name": "stdout",
     "output_type": "stream",
     "text": [
      "{0: 0, 2: 4, 4: 16}\n"
     ]
    }
   ],
   "source": [
    "## conditional dictionary comprehension\n",
    "di = {x:x**2 for x in range(5) if x%2==0}\n",
    "print(di)"
   ]
  },
  {
   "cell_type": "code",
   "execution_count": 54,
   "metadata": {},
   "outputs": [
    {
     "name": "stdout",
     "output_type": "stream",
     "text": [
      "{1: 2, 2: 3, 3: 2, 4: 1, 5: 1, 6: 1}\n"
     ]
    }
   ],
   "source": [
    "## to get the frequency of numbers\n",
    "lst = [1,2,3,4,5,6,3,2,2,1]\n",
    "store = {}\n",
    "for i in lst:\n",
    "    if i in store:\n",
    "        store[i] += 1\n",
    "    else:\n",
    "        store[i] = 1\n",
    "print(store)"
   ]
  },
  {
   "cell_type": "code",
   "execution_count": 2,
   "metadata": {},
   "outputs": [
    {
     "name": "stdout",
     "output_type": "stream",
     "text": [
      "{'a': 1, 'b': 2, 'c': 3, 'd': 4}\n",
      "{'a': 1, 'b': 2, 'c': 3, 'd': 4}\n"
     ]
    }
   ],
   "source": [
    "## merge 2 dict into 1\n",
    "d1 = {\"a\":1, \"b\":2}\n",
    "d2 = {\"c\":3, \"d\":4}\n",
    "## we need to add the keys and vals to d1\n",
    "for key,val in d2.items():\n",
    "    d1[key] = d2[key]\n",
    "print(d1)\n",
    "## instead of using the above we can simply use\n",
    "merged_dict = {**d1,**d2}\n",
    "print(merged_dict)"
   ]
  },
  {
   "cell_type": "code",
   "execution_count": 9,
   "metadata": {},
   "outputs": [
    {
     "name": "stdout",
     "output_type": "stream",
     "text": [
      "(1, 2, 3, 4, 5, 'hi')\n",
      "1\n",
      "5\n",
      "(1, 2, 3, 4, 5, 'hi')\n",
      "('hi', 5, 4, 3, 2, 1)\n"
     ]
    }
   ],
   "source": [
    "## TUPLE\n",
    "tpl = tuple([1,2,3,4,5, \"hi\"])\n",
    "print(tpl)\n",
    "## accessing elements in a tuple\n",
    "print(tpl[0])\n",
    "print(tpl[-2])\n",
    "print(tpl[::1])\n",
    "print(tpl[::-1])"
   ]
  },
  {
   "cell_type": "code",
   "execution_count": 13,
   "metadata": {},
   "outputs": [
    {
     "name": "stdout",
     "output_type": "stream",
     "text": [
      "(1, 2, 3, 4, 5, 'hi', 2, 3, 5)\n"
     ]
    },
    {
     "data": {
      "text/plain": [
       "(1, 2, 3, 4, 5, 'hi', 1, 2, 3, 4, 5, 'hi', 1, 2, 3, 4, 5, 'hi')"
      ]
     },
     "execution_count": 13,
     "metadata": {},
     "output_type": "execute_result"
    }
   ],
   "source": [
    "## tuple operations\n",
    "nums = (2,3,5)\n",
    "concat_tuple = tpl + nums\n",
    "print(concat_tuple)\n",
    "tpl * 3"
   ]
  },
  {
   "cell_type": "code",
   "execution_count": 18,
   "metadata": {},
   "outputs": [
    {
     "name": "stdout",
     "output_type": "stream",
     "text": [
      "(1, 'hi', 'cow', 2)\n",
      "1\n",
      "hi\n",
      "cow\n",
      "2\n",
      "1\n",
      "hi\n",
      "cow\n",
      "2\n"
     ]
    }
   ],
   "source": [
    "## packing tuples\n",
    "packed_tuple = 1,\"hi\",\"cow\",2\n",
    "print(packed_tuple)\n",
    "## unpacking tuples\n",
    "a,b,c,d = packed_tuple\n",
    "print(a)\n",
    "print(b)\n",
    "print(c)\n",
    "print(d)\n",
    "for val in packed_tuple:\n",
    "    print(val)"
   ]
  },
  {
   "cell_type": "code",
   "execution_count": 3,
   "metadata": {},
   "outputs": [
    {
     "name": "stdout",
     "output_type": "stream",
     "text": [
      "[1, 2, 3, 4]\n",
      "4\n",
      "[3, 2, 1]\n",
      "1 2\n",
      "<class 'NoneType'>\n"
     ]
    }
   ],
   "source": [
    "## nested tuple and nested list\n",
    "lst = [[1,2,3,4], [3,\"hi\"], [55,6],[[2,23],[1,2,3]]]\n",
    "print(lst[0])\n",
    "print(lst[0][3])\n",
    "print(lst[3][1][::-1])\n",
    "var = 1\n",
    "var2 = 2\n",
    "print(type(print(var,var2)))\n"
   ]
  }
 ],
 "metadata": {
  "kernelspec": {
   "display_name": "venv",
   "language": "python",
   "name": "python3"
  },
  "language_info": {
   "codemirror_mode": {
    "name": "ipython",
    "version": 3
   },
   "file_extension": ".py",
   "mimetype": "text/x-python",
   "name": "python",
   "nbconvert_exporter": "python",
   "pygments_lexer": "ipython3",
   "version": "3.12.6"
  }
 },
 "nbformat": 4,
 "nbformat_minor": 2
}
