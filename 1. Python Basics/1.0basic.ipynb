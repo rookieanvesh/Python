{
 "cells": [
  {
   "cell_type": "code",
   "execution_count": 11,
   "metadata": {},
   "outputs": [
    {
     "name": "stdout",
     "output_type": "stream",
     "text": [
      "16\n"
     ]
    }
   ],
   "source": [
    "##Line continuation using '\\' to continue the statement from the next line\n",
    "total = 1+2+3+4 \\\n",
    "    +2 + 3\n",
    "total = 1+2+3+4 \\\n",
    "+2 + 3\n",
    "total = 1+2+3+4+ \\\n",
    "2 + 3\n",
    "total = 1+2+3+4 \\\n",
    "    +2 + 3\n",
    "total = total + 1\n",
    "print(total)\n"
   ]
  }
 ],
 "metadata": {
  "kernelspec": {
   "display_name": "venv",
   "language": "python",
   "name": "python3"
  },
  "language_info": {
   "codemirror_mode": {
    "name": "ipython",
    "version": 3
   },
   "file_extension": ".py",
   "mimetype": "text/x-python",
   "name": "python",
   "nbconvert_exporter": "python",
   "pygments_lexer": "ipython3",
   "version": "3.12.6"
  }
 },
 "nbformat": 4,
 "nbformat_minor": 2
}
