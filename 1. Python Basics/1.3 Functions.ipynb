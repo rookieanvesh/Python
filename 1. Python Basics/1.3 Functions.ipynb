{
 "cells": [
  {
   "cell_type": "code",
   "execution_count": 5,
   "metadata": {},
   "outputs": [
    {
     "name": "stdout",
     "output_type": "stream",
     "text": [
      "<class 'tuple'>\n",
      "1\n",
      "2\n",
      "3\n",
      "4\n",
      "ghgh\n"
     ]
    }
   ],
   "source": [
    "## variable length arguments\n",
    "## positional arguments\n",
    "def print_no(*args):\n",
    "    print(type(args))\n",
    "    for i in args:\n",
    "        print (i)\n",
    "print_no(1,2,3,4,\"ghgh\")"
   ]
  },
  {
   "cell_type": "code",
   "execution_count": 12,
   "metadata": {},
   "outputs": [
    {
     "name": "stdout",
     "output_type": "stream",
     "text": [
      "<class 'dict'>\n",
      "name anvesh\n",
      "age 21\n",
      "w1 2\n"
     ]
    }
   ],
   "source": [
    "## keywords arguments\n",
    "def print_num(**kwargs):\n",
    "    print(type(kwargs))\n",
    "    for i,j in kwargs.items():\n",
    "        print(i,j)\n",
    "print_num(name=\"anvesh\",age=21,w1=2)"
   ]
  },
  {
   "cell_type": "code",
   "execution_count": 16,
   "metadata": {},
   "outputs": [
    {
     "name": "stdout",
     "output_type": "stream",
     "text": [
      "1\n",
      "2\n",
      "3\n",
      "4\n",
      "5\n",
      "iitjh\n",
      "name : anvesh\n",
      "age : 21\n"
     ]
    }
   ],
   "source": [
    "## combining both\n",
    "def print_details(*args, **kwargs):\n",
    "    for i in args:\n",
    "        print(f\"{i}\")\n",
    "    for i,j in kwargs.items():\n",
    "        print(f\"{i} : {j}\")\n",
    "        \n",
    "print_details(1,2,3,4,5, \"iitjh\", name=\"anvesh\",age=21)"
   ]
  }
 ],
 "metadata": {
  "kernelspec": {
   "display_name": "venv",
   "language": "python",
   "name": "python3"
  },
  "language_info": {
   "codemirror_mode": {
    "name": "ipython",
    "version": 3
   },
   "file_extension": ".py",
   "mimetype": "text/x-python",
   "name": "python",
   "nbconvert_exporter": "python",
   "pygments_lexer": "ipython3",
   "version": "3.12.6"
  }
 },
 "nbformat": 4,
 "nbformat_minor": 2
}
