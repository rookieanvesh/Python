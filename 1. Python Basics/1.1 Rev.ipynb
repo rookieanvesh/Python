{
 "cells": [
  {
   "cell_type": "code",
   "execution_count": null,
   "metadata": {},
   "outputs": [],
   "source": [
    "a = 100\n"
   ]
  },
  {
   "cell_type": "code",
   "execution_count": 15,
   "metadata": {},
   "outputs": [
    {
     "name": "stdout",
     "output_type": "stream",
     "text": [
      "10 <class 'int'>\n",
      "hello <class 'str'>\n",
      "9.0 <class 'float'>\n"
     ]
    }
   ],
   "source": [
    "## declaring and assigning variables\n",
    "## variables are case sensitive\n",
    "## dynamic typing\n",
    "## python allows the type of a variable to change as the program executes\n",
    "var = 10 ##int\n",
    "print(var, type(var))\n",
    "\n",
    "var = 'hello'\n",
    "print(var, type(var))\n",
    "\n",
    "var = 9.0\n",
    "print(var, type(var))"
   ]
  },
  {
   "cell_type": "code",
   "execution_count": 25,
   "metadata": {},
   "outputs": [
    {
     "name": "stdout",
     "output_type": "stream",
     "text": [
      "23 <class 'str'> 23 <class 'int'>\n"
     ]
    }
   ],
   "source": [
    "## input in python, allows the user to give the value like scanner and bufferedreader and other classes in java\n",
    "age = input(\"what is your age?\")\n",
    "date = int(input(\"what is the date?\"))\n",
    "print(age, type(age), date, type(date))\n",
    "## the value if the input is always a string\n"
   ]
  },
  {
   "cell_type": "code",
   "execution_count": 11,
   "metadata": {},
   "outputs": [
    {
     "name": "stdout",
     "output_type": "stream",
     "text": [
      "<class 'int'>\n",
      "25 <class 'str'>\n",
      "<class 'str'>\n",
      "123\n"
     ]
    }
   ],
   "source": [
    "##type conversion\n",
    "age = 25\n",
    "age_str = str(age)\n",
    "print(type(age))\n",
    "print(age_str, type(age_str))\n",
    "agee = '25'\n",
    "print(type(agee))\n",
    "##we can only convert numbers as string to numbers unlike the string \"anv\", this wont be convert to any number\n",
    "name = \"123\"\n",
    "ans = int(name)\n",
    "print(ans)\n"
   ]
  },
  {
   "cell_type": "code",
   "execution_count": 34,
   "metadata": {},
   "outputs": [
    {
     "name": "stdout",
     "output_type": "stream",
     "text": [
      "sum 46.1\n",
      "diff -0.10000000000000142\n",
      "multi 531.3000000000001\n",
      "div 0.9956709956709956 <class 'float'>\n"
     ]
    }
   ],
   "source": [
    "## a simple calculator in python\n",
    "##sum1 = int(input('enter the first number'))\n",
    "##sum2 = int(input('enter the second number'))\n",
    "sum1 = int(input('enter the first number'))\n",
    "sum2 = float(input('enter the second number'))\n",
    "\n",
    "sum = sum1 + sum2\n",
    "diff = sum1 - sum2\n",
    "multi = sum1 * sum2\n",
    "div = sum1 / sum2\n",
    "print(\"sum\", sum)\n",
    "print(\"diff\", diff)\n",
    "print(\"multi\",mult)\n",
    "print(\"div\",div, type(div))"
   ]
  },
  {
   "cell_type": "code",
   "execution_count": 2,
   "metadata": {},
   "outputs": [
    {
     "name": "stdout",
     "output_type": "stream",
     "text": [
      "<class 'bool'>\n"
     ]
    }
   ],
   "source": [
    "## boolean datatype\n",
    "a = 10\n",
    "b = 10\n",
    "print(type(a==b))\n",
    "\n"
   ]
  },
  {
   "cell_type": "code",
   "execution_count": 3,
   "metadata": {},
   "outputs": [
    {
     "name": "stdout",
     "output_type": "stream",
     "text": [
      "hello5.11\n"
     ]
    }
   ],
   "source": [
    "var = \"hello\" + \"5.11\"\n",
    "print(var)"
   ]
  },
  {
   "cell_type": "code",
   "execution_count": 3,
   "metadata": {},
   "outputs": [
    {
     "ename": "ValueError",
     "evalue": "invalid literal for int() with base 10: 'hi'",
     "output_type": "error",
     "traceback": [
      "\u001b[0;31m---------------------------------------------------------------------------\u001b[0m",
      "\u001b[0;31mValueError\u001b[0m                                Traceback (most recent call last)",
      "Cell \u001b[0;32mIn[3], line 2\u001b[0m\n\u001b[1;32m      1\u001b[0m enter \u001b[38;5;241m=\u001b[39m \u001b[38;5;28minput\u001b[39m(\u001b[38;5;124m\"\u001b[39m\u001b[38;5;124menter something\u001b[39m\u001b[38;5;124m\"\u001b[39m)\n\u001b[0;32m----> 2\u001b[0m \u001b[38;5;28;01mif\u001b[39;00m \u001b[38;5;28;43mint\u001b[39;49m\u001b[43m(\u001b[49m\u001b[43menter\u001b[49m\u001b[43m)\u001b[49m \u001b[38;5;241m>\u001b[39m \u001b[38;5;241m0\u001b[39m:\n\u001b[1;32m      3\u001b[0m     \u001b[38;5;28mprint\u001b[39m(\u001b[38;5;124m\"\u001b[39m\u001b[38;5;124mhello\u001b[39m\u001b[38;5;124m\"\u001b[39m)\n",
      "\u001b[0;31mValueError\u001b[0m: invalid literal for int() with base 10: 'hi'"
     ]
    }
   ],
   "source": [
    "enter = input(\"enter something\")\n",
    "if int(enter) > 0:\n",
    "    print(\"hello\")"
   ]
  },
  {
   "cell_type": "code",
   "execution_count": 10,
   "metadata": {},
   "outputs": [
    {
     "name": "stdout",
     "output_type": "stream",
     "text": [
      "2\n",
      "3\n",
      "6\n",
      "5\n"
     ]
    }
   ],
   "source": [
    "## range() gives the sequence of numbers \n",
    "range(7)\n",
    "## we use range in the for loop to iterate through a sequence of number, but the last number is never included\n",
    "for i in range(2,4):\n",
    "    print(i)\n",
    "## range(x,y,z) is basically like for(int i = x; i<y; z++)\n",
    "for i in range(6,4,-1):\n",
    "    print(i)"
   ]
  },
  {
   "cell_type": "code",
   "execution_count": 13,
   "metadata": {},
   "outputs": [],
   "source": [
    "for i in range(10):\n",
    "    break"
   ]
  },
  {
   "cell_type": "code",
   "execution_count": 17,
   "metadata": {},
   "outputs": [
    {
     "name": "stdout",
     "output_type": "stream",
     "text": [
      "3\n",
      "5\n",
      "7\n",
      "9\n",
      "11\n"
     ]
    }
   ],
   "source": [
    "for i in range(2,12):\n",
    "    if i%2==0:\n",
    "        continue\n",
    "    print(i)"
   ]
  },
  {
   "cell_type": "code",
   "execution_count": 20,
   "metadata": {},
   "outputs": [
    {
     "name": "stdout",
     "output_type": "stream",
     "text": [
      "i 0, j 0\n",
      "i 0, j 1\n",
      "i 0, j 2\n",
      "i 0, j 3\n",
      "i 0, j 4\n",
      "i 0, j 5\n",
      "i 0, j 6\n",
      "i 1, j 0\n",
      "i 1, j 1\n",
      "i 1, j 2\n",
      "i 1, j 3\n",
      "i 1, j 4\n",
      "i 1, j 5\n",
      "i 1, j 6\n",
      "i 2, j 0\n",
      "i 2, j 1\n",
      "i 2, j 2\n",
      "i 2, j 3\n",
      "i 2, j 4\n",
      "i 2, j 5\n",
      "i 2, j 6\n",
      "i 3, j 0\n",
      "i 3, j 1\n",
      "i 3, j 2\n",
      "i 3, j 3\n",
      "i 3, j 4\n",
      "i 3, j 5\n",
      "i 3, j 6\n",
      "i 4, j 0\n",
      "i 4, j 1\n",
      "i 4, j 2\n",
      "i 4, j 3\n",
      "i 4, j 4\n",
      "i 4, j 5\n",
      "i 4, j 6\n"
     ]
    }
   ],
   "source": [
    "## nested \n",
    "for i in range(5):\n",
    "    for j in range(7):\n",
    "        print(f\"i {i}, j {j}\")\n",
    "        "
   ]
  },
  {
   "cell_type": "code",
   "execution_count": 32,
   "metadata": {},
   "outputs": [
    {
     "ename": "ValueError",
     "evalue": "invalid literal for int() with base 10: ''",
     "output_type": "error",
     "traceback": [
      "\u001b[0;31m---------------------------------------------------------------------------\u001b[0m",
      "\u001b[0;31mValueError\u001b[0m                                Traceback (most recent call last)",
      "Cell \u001b[0;32mIn[32], line 2\u001b[0m\n\u001b[1;32m      1\u001b[0m \u001b[38;5;66;03m## calculate the sum of first n natural numbers\u001b[39;00m\n\u001b[0;32m----> 2\u001b[0m n \u001b[38;5;241m=\u001b[39m \u001b[38;5;28;43mint\u001b[39;49m\u001b[43m(\u001b[49m\u001b[38;5;28;43minput\u001b[39;49m\u001b[43m(\u001b[49m\u001b[38;5;124;43m\"\u001b[39;49m\u001b[38;5;124;43menter the value of n\u001b[39;49m\u001b[38;5;124;43m\"\u001b[39;49m\u001b[43m)\u001b[49m\u001b[43m)\u001b[49m\n\u001b[1;32m      3\u001b[0m \u001b[38;5;28msum\u001b[39m \u001b[38;5;241m=\u001b[39m \u001b[38;5;241m0\u001b[39m\n\u001b[1;32m      4\u001b[0m \u001b[38;5;28;01mfor\u001b[39;00m i  \u001b[38;5;129;01min\u001b[39;00m \u001b[38;5;28mrange\u001b[39m(\u001b[38;5;241m1\u001b[39m,n): \u001b[38;5;66;03m## as natural numbers start from n\u001b[39;00m\n",
      "\u001b[0;31mValueError\u001b[0m: invalid literal for int() with base 10: ''"
     ]
    }
   ],
   "source": [
    "## calculate the sum of first n natural numbers\n",
    "n = int(input(\"enter the value of n\"))\n",
    "sum = 0\n",
    "for i  in range(1,n): ## as natural numbers start from n\n",
    "    sum += i\n",
    "print(sum)\n"
   ]
  },
  {
   "cell_type": "code",
   "execution_count": 43,
   "metadata": {},
   "outputs": [
    {
     "name": "stdout",
     "output_type": "stream",
     "text": [
      "5\n",
      "7\n",
      "11\n"
     ]
    }
   ],
   "source": [
    "## display prime numbers from m to n\n",
    "for i in range(4,12):\n",
    "    is_prime = True\n",
    "    if i < 2:\n",
    "        continue\n",
    "    for j in range(2,i):\n",
    "        if i%j == 0:\n",
    "            is_prime = False\n",
    "            break\n",
    "    if(is_prime):\n",
    "        print(i)    "
   ]
  },
  {
   "cell_type": "code",
   "execution_count": 35,
   "metadata": {},
   "outputs": [
    {
     "name": "stdout",
     "output_type": "stream",
     "text": [
      "[]\n",
      "grapes\n",
      "kiwi\n",
      "orange\n",
      "banana\n",
      "apple\n",
      "kiwi\n",
      " \n",
      "apple\n",
      "banana\n",
      "orange\n",
      "kiwi\n",
      "grapes\n",
      "[]\n"
     ]
    }
   ],
   "source": [
    "## lists []\n",
    "'''lst = [2,\"abcd\",1,2,3,\" \"]\n",
    "lst.clear()'''\n",
    "lst = []\n",
    "print(lst[0:1])\n",
    "### accessing list items, '-' means iterating from the last\n",
    "fruits = [\"apple\",\"banana\",\"orange\",\"kiwi\",\"grapes\"]\n",
    "## printing the list from the end\n",
    "for i in range(len(fruits)-1,-1,-1):\n",
    "    print(fruits[i])\n",
    "print(fruits[-2])\n",
    "print(\" \")\n",
    "## simple way to iterate over the list\n",
    "for i in fruits:\n",
    "    print(i)\n",
    "\n",
    "fruits[0:5] ## similar to 0:\n",
    "print(lst)\n"
   ]
  },
  {
   "cell_type": "code",
   "execution_count": null,
   "metadata": {},
   "outputs": [],
   "source": []
  },
  {
   "cell_type": "code",
   "execution_count": 32,
   "metadata": {},
   "outputs": [
    {
     "name": "stdout",
     "output_type": "stream",
     "text": [
      "[]\n",
      "['apple', 'banana', 'orange', 'kiwi', 'grapes', 'dragon fruit', 'dragon fruit', 'dragon fruit', 'dragon fruit', 'dragon fruit']\n",
      "['apple', 'orange', 'grapes', 'dragon fruit', 'dragon fruit']\n",
      "['banana', 'grapes', 'dragon fruit']\n"
     ]
    }
   ],
   "source": [
    "## list methods\n",
    "print(lst[1:5])\n",
    "fruits.append(\"dragon fruit\") ## appends the item towards the end of the list\n",
    "print(fruits)\n",
    "print(fruits[::2])\n",
    "print(fruits[1:8:3])\n"
   ]
  },
  {
   "cell_type": "code",
   "execution_count": 36,
   "metadata": {},
   "outputs": [
    {
     "name": "stdout",
     "output_type": "stream",
     "text": [
      "0 apple\n",
      "1 banana\n",
      "2 orange\n",
      "3 kiwi\n",
      "4 grapes\n"
     ]
    }
   ],
   "source": [
    "## iterating over the list\n",
    "## enumerate gives the index number as well\n",
    "for index, number in enumerate(fruits):\n",
    "    print(index, number)"
   ]
  },
  {
   "cell_type": "code",
   "execution_count": 44,
   "metadata": {},
   "outputs": [
    {
     "name": "stdout",
     "output_type": "stream",
     "text": [
      "[0, 1, 8, 27, 64, 125, 216, 343, 512]\n",
      "[0, 4, 16, 36, 64, 100, 144, 196, 256, 324]\n"
     ]
    }
   ],
   "source": [
    "## list comprehension\n",
    "[i**2 for i in range(10) if i>5]\n",
    "\n",
    "## to the power of three of every number\n",
    "square = [i**3 for i in range(9)]\n",
    "print(square)\n",
    "even_nums = [i**2 for i in range(20) if i%2==0]\n",
    "print(even_nums)"
   ]
  }
 ],
 "metadata": {
  "kernelspec": {
   "display_name": "venv",
   "language": "python",
   "name": "python3"
  },
  "language_info": {
   "codemirror_mode": {
    "name": "ipython",
    "version": 3
   },
   "file_extension": ".py",
   "mimetype": "text/x-python",
   "name": "python",
   "nbconvert_exporter": "python",
   "pygments_lexer": "ipython3",
   "version": "3.12.6"
  }
 },
 "nbformat": 4,
 "nbformat_minor": 2
}
