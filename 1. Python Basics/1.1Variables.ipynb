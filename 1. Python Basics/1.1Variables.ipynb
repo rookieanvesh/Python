{
 "cells": [
  {
   "cell_type": "code",
   "execution_count": null,
   "metadata": {},
   "outputs": [],
   "source": [
    "a = 100\n"
   ]
  },
  {
   "cell_type": "code",
   "execution_count": 15,
   "metadata": {},
   "outputs": [
    {
     "name": "stdout",
     "output_type": "stream",
     "text": [
      "10 <class 'int'>\n",
      "hello <class 'str'>\n",
      "9.0 <class 'float'>\n"
     ]
    }
   ],
   "source": [
    "## declaring and assigning variables\n",
    "## variables are case sensitive\n",
    "## dynamic typing\n",
    "## python allows the type of a variable to change as the program executes\n",
    "var = 10 ##int\n",
    "print(var, type(var))\n",
    "\n",
    "var = 'hello'\n",
    "print(var, type(var))\n",
    "\n",
    "var = 9.0\n",
    "print(var, type(var))"
   ]
  },
  {
   "cell_type": "code",
   "execution_count": 25,
   "metadata": {},
   "outputs": [
    {
     "name": "stdout",
     "output_type": "stream",
     "text": [
      "23 <class 'str'> 23 <class 'int'>\n"
     ]
    }
   ],
   "source": [
    "## input in python, allows the user to give the value like scanner and bufferedreader and other classes in java\n",
    "age = input(\"what is your age?\")\n",
    "date = int(input(\"what is the date?\"))\n",
    "print(age, type(age), date, type(date))\n",
    "## the value if the input is always a string\n"
   ]
  },
  {
   "cell_type": "code",
   "execution_count": 11,
   "metadata": {},
   "outputs": [
    {
     "name": "stdout",
     "output_type": "stream",
     "text": [
      "<class 'int'>\n",
      "25 <class 'str'>\n",
      "<class 'str'>\n",
      "123\n"
     ]
    }
   ],
   "source": [
    "##type conversion\n",
    "age = 25\n",
    "age_str = str(age)\n",
    "print(type(age))\n",
    "print(age_str, type(age_str))\n",
    "agee = '25'\n",
    "print(type(agee))\n",
    "##we can only convert numbers as string to numbers unlike the string \"anv\", this wont be convert to any number\n",
    "name = \"123\"\n",
    "ans = int(name)\n",
    "print(ans)\n"
   ]
  },
  {
   "cell_type": "code",
   "execution_count": 34,
   "metadata": {},
   "outputs": [
    {
     "name": "stdout",
     "output_type": "stream",
     "text": [
      "sum 46.1\n",
      "diff -0.10000000000000142\n",
      "multi 531.3000000000001\n",
      "div 0.9956709956709956 <class 'float'>\n"
     ]
    }
   ],
   "source": [
    "## a simple calculator in python\n",
    "##sum1 = int(input('enter the first number'))\n",
    "##sum2 = int(input('enter the second number'))\n",
    "sum1 = int(input('enter the first number'))\n",
    "sum2 = float(input('enter the second number'))\n",
    "\n",
    "sum = sum1 + sum2\n",
    "diff = sum1 - sum2\n",
    "multi = sum1 * sum2\n",
    "div = sum1 / sum2\n",
    "print(\"sum\", sum)\n",
    "print(\"diff\", diff)\n",
    "print(\"multi\",multi)\n",
    "print(\"div\",div, type(div))"
   ]
  }
 ],
 "metadata": {
  "kernelspec": {
   "display_name": "venv",
   "language": "python",
   "name": "python3"
  },
  "language_info": {
   "codemirror_mode": {
    "name": "ipython",
    "version": 3
   },
   "file_extension": ".py",
   "mimetype": "text/x-python",
   "name": "python",
   "nbconvert_exporter": "python",
   "pygments_lexer": "ipython3",
   "version": "3.12.6"
  }
 },
 "nbformat": 4,
 "nbformat_minor": 2
}
